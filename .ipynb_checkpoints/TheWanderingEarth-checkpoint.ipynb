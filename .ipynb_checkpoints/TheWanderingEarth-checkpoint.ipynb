{
 "cells": [
  {
   "cell_type": "code",
   "execution_count": null,
   "metadata": {},
   "outputs": [],
   "source": [
    "import pandas as pd\n",
    "import numpy as np\n",
    "import matplotlib.pyplot as plt\n",
    "from pymongo import MongoClient\n",
    "from mongoengine import connect\n",
    "from pandas.io.json import json_normalize\n",
    "%matplotlib inline"
   ]
  },
  {
   "cell_type": "markdown",
   "metadata": {},
   "source": [
    "## 如果采用直接导入CSV的形式，请直接跳过这一步骤"
   ]
  },
  {
   "cell_type": "code",
   "execution_count": null,
   "metadata": {},
   "outputs": [],
   "source": [
    "conn = MongoClient(host='127.0.0.1', port=27017,connect=False)  # 实例化MongoClient\n",
    "db = conn.get_database('maoyan')  # 连接到maoyan数据库\n",
    "\n",
    "maoyan = db.get_collection('maoyan') # 连接到集合maoyan\n",
    "mon_data = maoyan.find()  # 查询这个集合下的所有记录，得到的数据类型：pymongo.cursor.Cursor"
   ]
  },
  {
   "cell_type": "code",
   "execution_count": null,
   "metadata": {},
   "outputs": [],
   "source": [
    "type(mon_data)"
   ]
  },
  {
   "cell_type": "code",
   "execution_count": null,
   "metadata": {},
   "outputs": [],
   "source": [
    "#data = json_normalize([comment for comment in mon_data])\n",
    "#注意这一句需要替换成下面的一句，否则报错\n",
    "data = pd.json_normalize([comment for comment in mon_data])#得到的数据类型：pandas.core.frame.DataFrame"
   ]
  },
  {
   "cell_type": "code",
   "execution_count": null,
   "metadata": {},
   "outputs": [],
   "source": [
    "type(data)"
   ]
  },
  {
   "cell_type": "markdown",
   "metadata": {},
   "source": [
    "报错内容：\n",
    "```Text\n",
    "<ipython-input-3-de0e8b2488e3>:1: FutureWarning: pandas.io.json.json_normalize is deprecated, use pandas.json_normalize instead\n",
    "  data = json_normalize([comment for comment in mon_data])\n",
    "```\n",
    "解决方案：\n",
    "    按照提示将模块语句替换即可"
   ]
  },
  {
   "cell_type": "markdown",
   "metadata": {},
   "source": [
    "## 如果采用直接导入CSV的形式，请直接跳到这一步骤开始执行"
   ]
  },
  {
   "cell_type": "code",
   "execution_count": null,
   "metadata": {},
   "outputs": [],
   "source": [
    "#采用直接读取 CSV 文件的方式将数据读入到 DataFrame 类型变量 data\n",
    "import csv\n",
    "data = pd.read_csv(\"D:\\Program Code\\Python\\Jupyter\\课程设计\\PythonClassDesignWork\\data.csv\",delimiter=',', encoding='utf8')\n",
    "#仅仅在需要通过CSV导入时运行"
   ]
  },
  {
   "cell_type": "code",
   "execution_count": null,
   "metadata": {
    "scrolled": true
   },
   "outputs": [],
   "source": [
    "data.info()"
   ]
  },
  {
   "cell_type": "code",
   "execution_count": null,
   "metadata": {},
   "outputs": [],
   "source": [
    "data.head()"
   ]
  },
  {
   "cell_type": "markdown",
   "metadata": {},
   "source": [
    "数据类型转换参考：\n",
    "\n",
    "| 字段 | 数据类型 |\n",
    "|------|---------|\n",
    "| content | object |\n",
    "| gender | int64 |\n",
    "| id | int64 |\n",
    "| nick | object |\n",
    "| replyCount | int64 |\n",
    "| score | int64 |\n",
    "| time | int64 |\n",
    "| upCount | int64 |\n",
    "| userId | int64 |\n",
    "| userLevel | int64 |"
   ]
  },
  {
   "cell_type": "code",
   "execution_count": null,
   "metadata": {},
   "outputs": [],
   "source": [
    "#数据类型转换操作\n",
    "data['gender'].astype('int64')\n",
    "data['id'].astype('int64')\n",
    "data['replyCount'].astype('int64')\n",
    "data['score'].astype('int64')\n",
    "data['time'].astype('int64')\n",
    "data['upCount'].astype('int64')\n",
    "data['userId'].astype('int64')\n",
    "data['userLevel'].astype('int64')\n",
    "#仅仅仅在需要CSV导入的时候执行"
   ]
  },
  {
   "cell_type": "code",
   "execution_count": null,
   "metadata": {
    "scrolled": false
   },
   "outputs": [],
   "source": [
    "# 数据清洗\n",
    "data = data.drop(columns='_id') #这一列在使用CSV导入的时候已经没了，不需要删除丢弃\n",
    "data = data.drop_duplicates(subset='userId')#去重\n",
    "data['time'] = pd.to_datetime(data['time']/1000, unit='s')#时间转换，在此之前你必须将表中时间的类型进行转换\n",
    "data = data[data['time']>=pd.to_datetime('2019-02-05 00:00:00')]\n",
    "data.set_index(data[\"time\"], inplace=True)\n",
    "data.head()"
   ]
  },
  {
   "cell_type": "code",
   "execution_count": null,
   "metadata": {},
   "outputs": [],
   "source": [
    "data.info()"
   ]
  },
  {
   "cell_type": "markdown",
   "metadata": {},
   "source": [
    "#### 一、数据详情\n",
    "- 共有102580条数据；\n",
    "- 包含字段：评论内容、性别、评论ID、评论者昵称、回复数量、评分、时间、点赞数量、评论者ID、评论者等级\n",
    "\n",
    "#### 二、问题\n",
    "1. 总体评价如何？\n",
    "2. 总体评价的时间走向如何？\n",
    "3. 高分的评价理由是什么？\n",
    "4. 低分的评价理由是什么？\n",
    "5. 低分的人群有哪些特征？（性别、等级）\n",
    "6. 低分跟哪位演员有关？"
   ]
  },
  {
   "cell_type": "markdown",
   "metadata": {},
   "source": [
    "##### 1. 总体评价如何？"
   ]
  },
  {
   "cell_type": "code",
   "execution_count": null,
   "metadata": {},
   "outputs": [],
   "source": [
    "data['score'].mean()"
   ]
  },
  {
   "cell_type": "code",
   "execution_count": null,
   "metadata": {},
   "outputs": [],
   "source": [
    "from pyecharts import Bar\n",
    "from pyecharts import Line\n",
    "from pyecharts import Overlap\n",
    "\n",
    "score_total = data['score'].value_counts().sort_index()\n",
    "bar = Bar(\"《流浪地球》各评分数量\", width=700)\n",
    "line = Line(\"\", width=700)\n",
    "bar.add(\"\", score_total.index, score_total.values, is_stack=True, is_label_show=True,\n",
    "       bar_category_gap='40%', label_color = ['#130f40'],\n",
    "       legend_text_size=18,xaxis_label_textsize=18,yaxis_label_textsize=18)\n",
    "line.add(\"\", score_total.index, score_total.values+1000, is_smooth=True)\n",
    "\n",
    "overlap = Overlap(width=700)\n",
    "overlap.add(bar)\n",
    "overlap.add(line)\n",
    "\n",
    "overlap"
   ]
  },
  {
   "cell_type": "markdown",
   "metadata": {},
   "source": [
    "注意使用报错，在这里需要利用pyecharts模块，建议安装0.5.5版本，具体安装命令：\n",
    "pip install pyecharts==0.5.5 -i https://pypi.douban.com/simple\n",
    "在新版本中移除了很多东西，会导致模块中部分内容不支持"
   ]
  },
  {
   "cell_type": "code",
   "execution_count": null,
   "metadata": {},
   "outputs": [],
   "source": [
    "# 低分百分比\n",
    "score_total[:5].sum()/score_total.sum()*100"
   ]
  },
  {
   "cell_type": "code",
   "execution_count": null,
   "metadata": {},
   "outputs": [],
   "source": [
    "# 高分百分比\n",
    "score_total[7:].sum()/score_total.sum()*100"
   ]
  },
  {
   "cell_type": "code",
   "execution_count": null,
   "metadata": {},
   "outputs": [],
   "source": [
    "# 满分百分比\n",
    "score_total[10:].sum()/score_total.sum()*100"
   ]
  },
  {
   "cell_type": "markdown",
   "metadata": {},
   "source": [
    "##### 2. 总体评价的时间走向如何？"
   ]
  },
  {
   "cell_type": "code",
   "execution_count": null,
   "metadata": {},
   "outputs": [],
   "source": [
    "score_by_time = data['score'].resample('H').mean()\n",
    "line = Line(\"《流浪地球》平均评分时间走向\", width=700)\n",
    "line.add(\"\", score_by_time.index.date, score_by_time.values, is_smooth=True,\n",
    "         legend_text_size=18,xaxis_label_textsize=18,yaxis_label_textsize=18,\n",
    "         xaxis_rotate=20, yaxis_min=8)\n",
    "line"
   ]
  },
  {
   "cell_type": "code",
   "execution_count": null,
   "metadata": {},
   "outputs": [],
   "source": [
    "score_by_time.nsmallest(6)"
   ]
  },
  {
   "cell_type": "markdown",
   "metadata": {},
   "source": [
    "##### 3. 高分的评价理由是什么？"
   ]
  },
  {
   "cell_type": "code",
   "execution_count": null,
   "metadata": {},
   "outputs": [],
   "source": [
    "import jieba\n",
    "from collections import Counter\n",
    "from pyecharts import WordCloud\n",
    "\n",
    "jieba.add_word('屈楚萧')\n",
    "jieba.add_word('刘启')\n",
    "jieba.add_word('吴京')\n",
    "jieba.add_word('刘培强')\n",
    "jieba.add_word('李光洁')\n",
    "jieba.add_word('王磊')\n",
    "jieba.add_word('吴孟达')\n",
    "jieba.add_word('达叔')\n",
    "jieba.add_word('韩子昂')\n",
    "jieba.add_word('赵今麦')\n",
    "jieba.add_word('韩朵朵')\n",
    "\n",
    "swords = [x.strip() for x in open ('stopwords.txt',encoding='utf-8')]"
   ]
  },
  {
   "cell_type": "markdown",
   "metadata": {},
   "source": [
    "## 上方打开文件需要手动添加编码格式UTF-8"
   ]
  },
  {
   "cell_type": "code",
   "execution_count": null,
   "metadata": {},
   "outputs": [],
   "source": [
    "def plot_word_cloud(data, swords):\n",
    "    text = ''.join(data['content'])\n",
    "    words = list(jieba.cut(text))\n",
    "    ex_sw_words = []\n",
    "    for word in words:\n",
    "        if len(word)>1 and (word not in swords):\n",
    "            ex_sw_words.append(word)\n",
    "    c = Counter()\n",
    "    c = Counter(ex_sw_words)\n",
    "    wc_data = pd.DataFrame({'word':list(c.keys()), 'counts':list(c.values())}).sort_values(by='counts', ascending=False).head(100)\n",
    "    wordcloud = WordCloud(width=1300, height=620)\n",
    "    wordcloud.add(\"\", wc_data['word'], wc_data['counts'], word_size_range=[20, 100])\n",
    "    return wordcloud"
   ]
  },
  {
   "cell_type": "code",
   "execution_count": null,
   "metadata": {},
   "outputs": [],
   "source": [
    "# 高分的评价\n",
    "plot_word_cloud(data=data[data['score']>6], swords=swords)"
   ]
  },
  {
   "cell_type": "code",
   "execution_count": null,
   "metadata": {},
   "outputs": [],
   "source": [
    "data[data['score']>6].nlargest(10, 'upCount')"
   ]
  },
  {
   "cell_type": "code",
   "execution_count": null,
   "metadata": {},
   "outputs": [],
   "source": [
    "for i in data[data['score']>6].nlargest(10, 'upCount')['content']:\n",
    "    print(i+'\\n')"
   ]
  },
  {
   "cell_type": "markdown",
   "metadata": {},
   "source": [
    "##### 4. 低分的评价理由是什么？"
   ]
  },
  {
   "cell_type": "code",
   "execution_count": null,
   "metadata": {},
   "outputs": [],
   "source": [
    "# 低分的评价\n",
    "plot_word_cloud(data=data[data['score']<5], swords=swords)"
   ]
  },
  {
   "cell_type": "code",
   "execution_count": null,
   "metadata": {},
   "outputs": [],
   "source": [
    "data[data['score']<5].nlargest(10, 'upCount')"
   ]
  },
  {
   "cell_type": "code",
   "execution_count": null,
   "metadata": {},
   "outputs": [],
   "source": [
    "for i in data[data['score']<5].nlargest(10, 'upCount')['content']:\n",
    "    print(i+'\\n')"
   ]
  },
  {
   "cell_type": "markdown",
   "metadata": {},
   "source": [
    "##### 5. 低分的人群有哪些特征？（性别、等级）"
   ]
  },
  {
   "cell_type": "code",
   "execution_count": null,
   "metadata": {},
   "outputs": [],
   "source": [
    "# 总体的性别比例\n",
    "gender_total = data['gender'].value_counts()\n",
    "bar = Bar(\"《流浪地球》观众性别\", width=700)\n",
    "bar.add(\"\", ['未知', '男', '女'], gender_total.values, is_stack=True, is_label_show=True,\n",
    "       bar_category_gap='60%', label_color = ['#130f40'],\n",
    "       legend_text_size=18,xaxis_label_textsize=18,yaxis_label_textsize=18)\n",
    "bar"
   ]
  },
  {
   "cell_type": "code",
   "execution_count": null,
   "metadata": {},
   "outputs": [],
   "source": [
    "gender_total/gender_total.sum()*100"
   ]
  },
  {
   "cell_type": "code",
   "execution_count": null,
   "metadata": {},
   "outputs": [],
   "source": [
    "# 低分的性别比例\n",
    "gender_low = data.loc[data['score']<5, 'gender'].value_counts()\n",
    "bar = Bar(\"《流浪地球》低分评论观众性别\", width=700)\n",
    "bar.add(\"\", ['未知', '男', '女'], gender_low.values, is_stack=True, is_label_show=True,\n",
    "       bar_category_gap='60%', label_color = ['#130f40'],\n",
    "       legend_text_size=18,xaxis_label_textsize=18,yaxis_label_textsize=18)\n",
    "bar"
   ]
  },
  {
   "cell_type": "markdown",
   "metadata": {},
   "source": [
    ">提示：\n",
    "Bar.add用于参数自动补全\n",
    "Bar.add(self, * args, ** kwargs)"
   ]
  },
  {
   "cell_type": "code",
   "execution_count": null,
   "metadata": {},
   "outputs": [],
   "source": [
    "gender_low/gender_low.sum()*100"
   ]
  },
  {
   "cell_type": "code",
   "execution_count": null,
   "metadata": {},
   "outputs": [],
   "source": [
    "# 总体的等级比例\n",
    "level_total = data['userLevel'].value_counts().sort_index()\n",
    "bar = Bar(\"《流浪地球》观众等级\", width=700)\n",
    "bar.add(\"\", level_total.index, level_total.values, is_stack=True, is_label_show=True,\n",
    "       bar_category_gap='40%', label_color = ['#130f40'],\n",
    "       legend_text_size=18,xaxis_label_textsize=18,yaxis_label_textsize=18)\n",
    "bar"
   ]
  },
  {
   "cell_type": "code",
   "execution_count": null,
   "metadata": {},
   "outputs": [],
   "source": [
    "# 低分评论的观众等级比例\n",
    "level_low = data.loc[data['score']<5, 'userLevel'].value_counts().sort_index()\n",
    "bar = Bar(\"《流浪地球》低分评论的观众等级\", width=700)\n",
    "bar.add(\"\", level_low.index, level_low.values, is_stack=True, is_label_show=True,\n",
    "       bar_category_gap='40%', label_color = ['#130f40'],\n",
    "       legend_text_size=18,xaxis_label_textsize=18,yaxis_label_textsize=18)\n",
    "bar"
   ]
  },
  {
   "cell_type": "markdown",
   "metadata": {},
   "source": [
    "## 注意上方报错，导致下方部分数据报错"
   ]
  },
  {
   "cell_type": "markdown",
   "metadata": {},
   "source": [
    "##### 6. 高低分跟哪位演员有关？"
   ]
  },
  {
   "cell_type": "code",
   "execution_count": null,
   "metadata": {},
   "outputs": [],
   "source": [
    "mapping = {'liucixin':'刘慈欣|大刘', 'guofan':'郭帆', 'quchuxiao':'屈楚萧|刘启|户口', 'wujing':'吴京|刘培强', \n",
    "           'liguangjie':'李光洁|王磊', 'wumengda':'吴孟达|达叔|韩子昂', 'zhaojinmai':'赵今麦|韩朵朵'}\n",
    "for key, value in mapping.items():\n",
    "    data[key] = data['content'].str.contains(value)"
   ]
  },
  {
   "cell_type": "code",
   "execution_count": null,
   "metadata": {},
   "outputs": [],
   "source": [
    "# 总体提及次数\n",
    "staff_count = pd.Series({key: data.loc[data[key], 'score'].count() for key in mapping.keys()}).sort_values()\n",
    "staff_count"
   ]
  },
  {
   "cell_type": "code",
   "execution_count": null,
   "metadata": {},
   "outputs": [],
   "source": [
    "bar = Bar(\"《流浪地球》演职员总体提及次数\", width=700)\n",
    "bar.add(\"\", ['李光洁','郭帆','赵今麦','吴孟达','屈楚萧','刘慈欣','吴京'], staff_count.values, is_stack=True, is_label_show=True,\n",
    "       bar_category_gap='60%', label_color = ['#130f40'],\n",
    "       legend_text_size=18,xaxis_label_textsize=18,yaxis_label_textsize=18)\n",
    "bar"
   ]
  },
  {
   "cell_type": "code",
   "execution_count": null,
   "metadata": {},
   "outputs": [],
   "source": [
    "average_score = pd.Series({key: data.loc[data[key], 'score'].mean() for key in mapping.keys()}).sort_values()\n",
    "average_score"
   ]
  },
  {
   "cell_type": "code",
   "execution_count": null,
   "metadata": {},
   "outputs": [],
   "source": [
    "bar = Bar(\"《流浪地球》演职员平均分\", width=700)\n",
    "bar.add(\"\", ['赵今麦','吴孟达','吴京','屈楚萧','李光洁','刘慈欣','郭帆'], np.round(average_score.values,2), is_stack=True, is_label_show=True,\n",
    "       bar_category_gap='60%', label_color = ['#130f40'],\n",
    "       legend_text_size=18,xaxis_label_textsize=18,yaxis_label_textsize=18)\n",
    "bar"
   ]
  },
  {
   "cell_type": "code",
   "execution_count": null,
   "metadata": {},
   "outputs": [],
   "source": [
    "staff_count_low = pd.Series({key: data.loc[data[key]&(data['score']<5), 'score'].count() for key in mapping.keys()}).sort_values()\n",
    "staff_count_low"
   ]
  },
  {
   "cell_type": "code",
   "execution_count": null,
   "metadata": {},
   "outputs": [],
   "source": [
    "staff_count_pct = np.round(staff_count_low/staff_count*100, 2).sort_values()\n",
    "staff_count_pct"
   ]
  },
  {
   "cell_type": "code",
   "execution_count": null,
   "metadata": {},
   "outputs": [],
   "source": [
    "bar = Bar(\"《流浪地球》演职员低分评论提及百分比\", width=700)\n",
    "bar.add(\"\", ['郭帆','刘慈欣','李光洁','屈楚萧','赵今麦','吴京','吴孟达'], staff_count_pct.values, is_stack=True, is_label_show=True,\n",
    "       bar_category_gap='60%', label_color = ['#130f40'],\n",
    "       legend_text_size=18,xaxis_label_textsize=18,yaxis_label_textsize=18)\n",
    "bar"
   ]
  },
  {
   "cell_type": "code",
   "execution_count": null,
   "metadata": {},
   "outputs": [],
   "source": [
    "data[data['wumengda']&(data['score']<5)].nlargest(5, 'upCount')"
   ]
  },
  {
   "cell_type": "code",
   "execution_count": null,
   "metadata": {},
   "outputs": [],
   "source": [
    "for i in data[data['wumengda']&(data['score']<5)].nlargest(5, 'upCount')['content']:\n",
    "    print(i+'\\n')"
   ]
  },
  {
   "cell_type": "code",
   "execution_count": null,
   "metadata": {},
   "outputs": [],
   "source": [
    "data[data['wujing']&(data['score']<5)].nlargest(5, 'upCount')"
   ]
  },
  {
   "cell_type": "code",
   "execution_count": null,
   "metadata": {},
   "outputs": [],
   "source": [
    "for i in data[data['wujing']&(data['score']<5)].nlargest(5, 'upCount')['content']:\n",
    "    print(i+'\\n')"
   ]
  },
  {
   "cell_type": "code",
   "execution_count": null,
   "metadata": {},
   "outputs": [],
   "source": [
    "data[data['zhaojinmai']&(data['score']<5)].nlargest(5, 'upCount')"
   ]
  },
  {
   "cell_type": "code",
   "execution_count": null,
   "metadata": {},
   "outputs": [],
   "source": [
    "for i in data[data['zhaojinmai']&(data['score']<5)].nlargest(5, 'upCount')['content']:\n",
    "    print(i+'\\n')"
   ]
  }
 ],
 "metadata": {
  "kernelspec": {
   "display_name": "Python 3",
   "language": "python",
   "name": "python3"
  },
  "language_info": {
   "codemirror_mode": {
    "name": "ipython",
    "version": 3
   },
   "file_extension": ".py",
   "mimetype": "text/x-python",
   "name": "python",
   "nbconvert_exporter": "python",
   "pygments_lexer": "ipython3",
   "version": "3.8.6"
  }
 },
 "nbformat": 4,
 "nbformat_minor": 2
}
